{
 "cells": [
  {
   "cell_type": "code",
   "execution_count": 1,
   "metadata": {},
   "outputs": [],
   "source": [
    "#importing packages\n",
    "from selenium import webdriver\n",
    "from selenium.webdriver.support.ui import WebDriverWait\n",
    "import time"
   ]
  },
  {
   "cell_type": "code",
   "execution_count": 2,
   "metadata": {},
   "outputs": [],
   "source": [
    "#instantiating chrome driver object\n",
    "#path needs to be changed as per the local system\n",
    "driver = webdriver.Chrome(executable_path = 'C:\\\\Users\\\\Kashif\\\\Documents\\\\Selenium Jar\\\\chromedriver.exe')"
   ]
  },
  {
   "cell_type": "markdown",
   "metadata": {},
   "source": [
    "## Function to validate login functionality of HUDL"
   ]
  },
  {
   "cell_type": "code",
   "execution_count": 3,
   "metadata": {},
   "outputs": [],
   "source": [
    "def validate_hudl_login(email_id, password, driver, message, remember_me=False):\n",
    "    \n",
    "    #launching hudl.com\n",
    "    driver.get(\"https://www.hudl.com\")\n",
    "    \n",
    "    time.sleep(2)     #2 seconds time delay\n",
    "    \n",
    "    #redirecting to hudl.com login page\n",
    "    login_page_button = driver.find_elements_by_class_name(\"login\")[0]\n",
    "    login_page_button.click()\n",
    "\n",
    "    time.sleep(2)    #2 seconds time delay\n",
    "\n",
    "    #login email input\n",
    "    email_id_input_box = driver.find_element_by_id(\"email\")\n",
    "\n",
    "    #login password input\n",
    "    password_input_box = driver.find_element_by_name(\"password\")\n",
    "\n",
    "    \n",
    "    #clear the placeholders\n",
    "    email_id_input_box.clear()\n",
    "    password_input_box.clear()\n",
    "    \n",
    "    #fill login credentials\n",
    "    email_id_input_box.send_keys(email_id)\n",
    "    \n",
    "    time.sleep(2)    #2 seconds time delay\n",
    "    \n",
    "    password_input_box.send_keys(password)\n",
    "    \n",
    "    time.sleep(2)  #2 seconds time delay\n",
    "    \n",
    "    #to click remember me functionality\n",
    "    if remember_me:\n",
    "        element = driver.find_element_by_xpath('//*[@id=\"remember-me\"]')\n",
    "        driver.execute_script(\"arguments[0].click();\", element)\n",
    "      \n",
    "    time.sleep(2)    #2 seconds time delay\n",
    "    \n",
    "    #login through site\n",
    "    login_button = driver.find_element_by_id(\"logIn\")\n",
    "    login_button.click()\n",
    "    \n",
    "    #wait the ready state to be complete\n",
    "    WebDriverWait(driver = driver, timeout = 20).until(lambda x: x.execute_script(\"return document.readyState === 'complete'\"))\n",
    "    error_message = \"We didn't recognize that email and/or password. Need help?\"\n",
    "   \n",
    "    \n",
    "    time.sleep(2)#2 seconds time delay\n",
    "    \n",
    "    #if error message found, then login is failed\n",
    "    if driver.find_elements_by_class_name(\"fade-in-expand\") and error_message == driver.find_elements_by_class_name(\"fade-in-expand\")[0].text:\n",
    "        print(\"Login Failed with {0}\".format(message))\n",
    "    else:\n",
    "        print(\"Login Successful with {0}\".format(message))\n",
    "    #-----------------------------------------------------------------------------------\n",
    "    #driver.close() #to close chrome driver"
   ]
  },
  {
   "cell_type": "markdown",
   "metadata": {},
   "source": [
    "## Function to Logout from Hudl"
   ]
  },
  {
   "cell_type": "code",
   "execution_count": 4,
   "metadata": {},
   "outputs": [],
   "source": [
    "def logout_hudl(driver):\n",
    "    \n",
    "    time.sleep(5)\n",
    "\n",
    "    element = driver.find_element_by_xpath('//*[@id=\"ssr-webnav\"]/div/div[1]/nav[1]/div[4]/div[2]/div[2]/div[3]/a')\n",
    "    driver.execute_script(\"arguments[0].click();\", element)\n",
    "    \n",
    "    print(\"Successfully Logout\")"
   ]
  },
  {
   "cell_type": "markdown",
   "metadata": {},
   "source": [
    "## TestCase-1 Login with valid credential\n",
    "#### Note: Kindly provide valid credentials"
   ]
  },
  {
   "cell_type": "code",
   "execution_count": 5,
   "metadata": {},
   "outputs": [
    {
     "name": "stdout",
     "output_type": "stream",
     "text": [
      "Login Successful with Valid Credential\n",
      "Successfully Logout\n"
     ]
    }
   ],
   "source": [
    "#hudl valid credentials\n",
    "email_id = \"<YOUR VALID EMAIL ID>\"\n",
    "password = \"<YOUR VALID PASSWORD>\"\n",
    "\n",
    "#calling validatehudllogin method/function to validate login with given credential\n",
    "validate_hudl_login(email_id, password, driver, \"Valid Credential\")\n",
    "logout_hudl(driver)"
   ]
  },
  {
   "cell_type": "markdown",
   "metadata": {},
   "source": [
    "## TestCase-2 Login with invalid credential"
   ]
  },
  {
   "cell_type": "code",
   "execution_count": 6,
   "metadata": {},
   "outputs": [
    {
     "name": "stdout",
     "output_type": "stream",
     "text": [
      "Login Failed with Invalid Credential\n"
     ]
    }
   ],
   "source": [
    "#hudl credentials\n",
    "email_id = \"<YOUR INVALID EMAIL ID>\"\n",
    "password = \"<YOUR INVALID PASSWORD>\"\n",
    "\n",
    "#calling validatehudllogin method/function to validate login with given credential\n",
    "validate_hudl_login(email_id, password, driver, \"Invalid Credential\")"
   ]
  },
  {
   "cell_type": "markdown",
   "metadata": {},
   "source": [
    "## TestCase-3 Login with empty credential"
   ]
  },
  {
   "cell_type": "code",
   "execution_count": 7,
   "metadata": {},
   "outputs": [
    {
     "name": "stdout",
     "output_type": "stream",
     "text": [
      "Login Failed with Empty Credential\n"
     ]
    }
   ],
   "source": [
    "#hudl credentials\n",
    "email_id = \"\"\n",
    "password = \"\"\n",
    "\n",
    "#calling validatehudllogin method/function to validate login with given credential\n",
    "validate_hudl_login(email_id, password, driver, \"Empty Credential\")"
   ]
  },
  {
   "cell_type": "markdown",
   "metadata": {},
   "source": [
    "## TestCase-4 Login with valid credential with remember me functionality"
   ]
  },
  {
   "cell_type": "code",
   "execution_count": 8,
   "metadata": {},
   "outputs": [
    {
     "name": "stdout",
     "output_type": "stream",
     "text": [
      "Login Successful with Valid Credential and Remember me\n",
      "Successfully Logout\n",
      "Remember me Functionality Validation Successful!\n"
     ]
    }
   ],
   "source": [
    "#hudl credentials\n",
    "email_id = \"<YOUR VALID EMAIL ID>\"\n",
    "password = \"<YOUR VALID PASSWORD>\"\n",
    "\n",
    "#calling validatehudllogin method/function to validate login with given credential\n",
    "validate_hudl_login(email_id, password, driver, \"Valid Credential and Remember me\",True)\n",
    "logout_hudl(driver)\n",
    "\n",
    "#redirecting to hudl.com login page\n",
    "login_page_button = driver.find_elements_by_class_name(\"login\")[0]\n",
    "login_page_button.click()\n",
    "time.sleep(2)\n",
    "remember_me_email = driver.find_element_by_id(\"email\").get_attribute(\"value\")\n",
    "if email_id ==  remember_me_email:\n",
    "    print(\"Remember me Functionality Validation Successful!\")\n",
    "else:\n",
    "    print(\"Remember me Functionality Validation Unsuccessful!\")"
   ]
  }
 ],
 "metadata": {
  "kernelspec": {
   "display_name": "Python 3",
   "language": "python",
   "name": "python3"
  },
  "language_info": {
   "codemirror_mode": {
    "name": "ipython",
    "version": 3
   },
   "file_extension": ".py",
   "mimetype": "text/x-python",
   "name": "python",
   "nbconvert_exporter": "python",
   "pygments_lexer": "ipython3",
   "version": "3.8.8"
  }
 },
 "nbformat": 4,
 "nbformat_minor": 4
}
