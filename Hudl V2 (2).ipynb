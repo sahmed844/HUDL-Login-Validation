{
 "cells": [
  {
   "cell_type": "code",
   "execution_count": 1,
   "metadata": {},
   "outputs": [],
   "source": [
    "#importing packages\n",
    "from selenium import webdriver\n",
    "from selenium.webdriver.support.ui import WebDriverWait\n",
    "import time"
   ]
  },
  {
   "cell_type": "code",
   "execution_count": 2,
   "metadata": {},
   "outputs": [],
   "source": [
    "#instantiating chrome driver object\n",
    "driver = webdriver.Chrome(executable_path='C:\\\\Users\\\\Kashif\\\\Documents\\\\Selenium Jar\\\\chromedriver.exe')"
   ]
  },
  {
   "cell_type": "markdown",
   "metadata": {},
   "source": [
    "## Function to validate login functionality of HUDL"
   ]
  },
  {
   "cell_type": "code",
   "execution_count": 3,
   "metadata": {},
   "outputs": [],
   "source": [
    "def validatehudllogin(emailid, password, driver, message, rememberme=False):\n",
    "    \n",
    "    #redirecting hudl.com\n",
    "    driver.get('https://www.hudl.com')\n",
    "    \n",
    "    time.sleep(2)     #2 second time delay\n",
    "    \n",
    "    #redirecting to hudl.com login page\n",
    "    loginpagebutton = driver.find_elements_by_class_name(\"login\")[0]\n",
    "    loginpagebutton.click()\n",
    "\n",
    "    time.sleep(2)    #2 second time delay\n",
    "\n",
    "    #login email input\n",
    "    emailid_input_box = driver.find_element_by_id(\"email\")\n",
    "\n",
    "    #login password input\n",
    "    password_input_box = driver.find_element_by_name(\"password\")\n",
    "\n",
    "    \n",
    "    #clear the placeholders\n",
    "    emailid_input_box.clear()\n",
    "    password_input_box.clear()\n",
    "    \n",
    "    #fill login credentials\n",
    "    emailid_input_box.send_keys(emailid)\n",
    "    time.sleep(2)    #2 second time gap between filling username and password\n",
    "    password_input_box.send_keys(password)\n",
    "    time.sleep(2)\n",
    "    if rememberme:\n",
    "        element = driver.find_element_by_xpath('//*[@id=\"remember-me\"]')\n",
    "        driver.execute_script(\"arguments[0].click();\", element)\n",
    "      \n",
    "    time.sleep(2)    #2 second time delay\n",
    "    \n",
    "    #login through site\n",
    "    loginbutton = driver.find_element_by_id('logIn')\n",
    "    loginbutton.click()\n",
    "    \n",
    "    # wait the ready state to be complete\n",
    "    WebDriverWait(driver=driver, timeout=20).until(lambda x: x.execute_script(\"return document.readyState === 'complete'\"))\n",
    "    error_message = \"We didn't recognize that email and/or password. Need help?\"\n",
    "    # get the errors (if there are)\n",
    "    time.sleep(2)\n",
    "    # if we find that error message within errors, then login is failed\n",
    "    if driver.find_elements_by_class_name(\"fade-in-expand\") and error_message == driver.find_elements_by_class_name(\"fade-in-expand\")[0].text:\n",
    "        print(\"Login failed with {0}\".format(message))\n",
    "    else:\n",
    "        print(\"Login successful with {0}\".format(message))\n",
    "    # automatically close the driver after 30 seconds\n",
    "    #time.sleep(30)\n",
    "    #driver.close()"
   ]
  },
  {
   "cell_type": "markdown",
   "metadata": {},
   "source": [
    "## Function to Logout from Hudl"
   ]
  },
  {
   "cell_type": "code",
   "execution_count": 4,
   "metadata": {},
   "outputs": [],
   "source": [
    "def logouthudl(driver):\n",
    "    \n",
    "    time.sleep(5)\n",
    "\n",
    "    element = driver.find_element_by_xpath('//*[@id=\"ssr-webnav\"]/div/div[1]/nav[1]/div[4]/div[2]/div[2]/div[3]/a')\n",
    "    driver.execute_script(\"arguments[0].click();\", element)\n",
    "    \n",
    "    print('Successfully Logout')"
   ]
  },
  {
   "cell_type": "markdown",
   "metadata": {},
   "source": [
    "## TestCase-1 Login with valid credential\n",
    "#### Note: Kindly provide valid credential, password shared separately on mail"
   ]
  },
  {
   "cell_type": "code",
   "execution_count": 5,
   "metadata": {},
   "outputs": [
    {
     "name": "stdout",
     "output_type": "stream",
     "text": [
      "Login successful with Valid Credential\n",
      "Successfully Logout\n"
     ]
    }
   ],
   "source": [
    "#hudl valid credentials\n",
    "emailid =\"ahmedsyedkashif1@gmail.com\"\n",
    "password = \"\"\n",
    "\n",
    "#calling validatehudllogin method/function to validate login with given credential\n",
    "validatehudllogin(emailid, password, driver, \"Valid Credential\")\n",
    "logouthudl(driver)"
   ]
  },
  {
   "cell_type": "markdown",
   "metadata": {},
   "source": [
    "## TestCase-2 Login with invalid credential"
   ]
  },
  {
   "cell_type": "code",
   "execution_count": 6,
   "metadata": {},
   "outputs": [
    {
     "name": "stdout",
     "output_type": "stream",
     "text": [
      "Login failed with Invalid Credential\n"
     ]
    }
   ],
   "source": [
    "#hudl credentials\n",
    "emailid =\"MyEmailName\"\n",
    "password = \"MyPassword123@\"\n",
    "\n",
    "#calling validatehudllogin method/function to validate login with given credential\n",
    "validatehudllogin(emailid, password, driver, \"Invalid Credential\")"
   ]
  },
  {
   "cell_type": "markdown",
   "metadata": {},
   "source": [
    "## TestCase-3 Login with empty credential"
   ]
  },
  {
   "cell_type": "code",
   "execution_count": 7,
   "metadata": {},
   "outputs": [
    {
     "name": "stdout",
     "output_type": "stream",
     "text": [
      "Login failed with Empty Credential\n"
     ]
    }
   ],
   "source": [
    "#hudl credentials\n",
    "emailid =\" \"\n",
    "password = \" \"\n",
    "\n",
    "#calling validatehudllogin method/function to validate login with given credential\n",
    "validatehudllogin(emailid, password, driver, \"Empty Credential\")"
   ]
  },
  {
   "cell_type": "markdown",
   "metadata": {},
   "source": [
    "## TestCase-4 Login with valid credential with remember me functionality"
   ]
  },
  {
   "cell_type": "code",
   "execution_count": 8,
   "metadata": {},
   "outputs": [
    {
     "name": "stdout",
     "output_type": "stream",
     "text": [
      "Login successful with Valid Credential and remember me\n",
      "Successfully Logout\n",
      "Remember me functionality validation successful!\n"
     ]
    }
   ],
   "source": [
    "#hudl credentials\n",
    "emailid = \"ahmedsyedkashif1@gmail.com\"\n",
    "password = \"\"\n",
    "\n",
    "#calling validatehudllogin method/function to validate login with given credential\n",
    "validatehudllogin(emailid, password, driver, \"Valid Credential and remember me\",True)\n",
    "logouthudl(driver)\n",
    "\n",
    "#redirecting to hudl.com login page\n",
    "loginpagebutton = driver.find_elements_by_class_name(\"login\")[0]\n",
    "loginpagebutton.click()\n",
    "time.sleep(2)\n",
    "remembermeemail = driver.find_element_by_id('email').get_attribute('value')\n",
    "if emailid ==  remembermeemail:\n",
    "    print('Remember me functionality validation successful!')\n",
    "else:\n",
    "    print('Remember me functionality validation unsuccessful!')"
   ]
  }
 ],
 "metadata": {
  "kernelspec": {
   "display_name": "Python 3",
   "language": "python",
   "name": "python3"
  },
  "language_info": {
   "codemirror_mode": {
    "name": "ipython",
    "version": 3
   },
   "file_extension": ".py",
   "mimetype": "text/x-python",
   "name": "python",
   "nbconvert_exporter": "python",
   "pygments_lexer": "ipython3",
   "version": "3.8.8"
  }
 },
 "nbformat": 4,
 "nbformat_minor": 4
}
